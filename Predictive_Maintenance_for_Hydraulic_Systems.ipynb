{
  "nbformat": 4,
  "nbformat_minor": 0,
  "metadata": {
    "colab": {
      "provenance": []
    },
    "kernelspec": {
      "name": "python3",
      "display_name": "Python 3"
    },
    "language_info": {
      "name": "python"
    }
  },
  "cells": [
    {
      "cell_type": "code",
      "execution_count": 22,
      "metadata": {
        "colab": {
          "base_uri": "https://localhost:8080/"
        },
        "id": "HxXif3xhSecA",
        "outputId": "ccc52d3b-ba7f-4132-e619-18262fb4ba8b"
      },
      "outputs": [
        {
          "output_type": "stream",
          "name": "stdout",
          "text": [
            "Cloning into 'Predictive-Maintenance-for-Hydraulic-Systems'...\n",
            "remote: Enumerating objects: 40, done.\u001b[K\n",
            "remote: Total 40 (delta 0), reused 0 (delta 0), pack-reused 40 (from 1)\u001b[K\n",
            "Receiving objects: 100% (40/40), 88.74 MiB | 13.69 MiB/s, done.\n",
            "Resolving deltas: 100% (2/2), done.\n",
            "Updating files: 100% (26/26), done.\n",
            "/content/Predictive-Maintenance-for-Hydraulic-Systems/Predictive-Maintenance-for-Hydraulic-Systems/Predictive-Maintenance-for-Hydraulic-Systems/data\n",
            "condition+monitoring+of+hydraulic+systems\n"
          ]
        }
      ],
      "source": [
        "# !git clone git@github.com:RockDeng110/Predictive-Maintenance-for-Hydraulic-Systems.git\n",
        "!git clone https://github.com/RockDeng110/Predictive-Maintenance-for-Hydraulic-Systems.git\n",
        "%cd Predictive-Maintenance-for-Hydraulic-Systems/data\n",
        "!ls"
      ]
    },
    {
      "cell_type": "code",
      "source": [
        "\n",
        "%cd condition+monitoring+of+hydraulic+systems\n",
        "!ls"
      ],
      "metadata": {
        "id": "oUqvy-Hol_mx",
        "outputId": "65596446-1399-4b44-e5d3-f66641dede67",
        "colab": {
          "base_uri": "https://localhost:8080/"
        }
      },
      "execution_count": 24,
      "outputs": [
        {
          "output_type": "stream",
          "name": "stdout",
          "text": [
            "/content/Predictive-Maintenance-for-Hydraulic-Systems/Predictive-Maintenance-for-Hydraulic-Systems/Predictive-Maintenance-for-Hydraulic-Systems/data/condition+monitoring+of+hydraulic+systems\n",
            "CE.txt\t\t documentation.txt  FS2.txt\t PS2.txt  PS5.txt  TS1.txt  TS4.txt\n",
            "CP.txt\t\t EPS1.txt\t    profile.txt  PS3.txt  PS6.txt  TS2.txt  VS1.txt\n",
            "description.txt  FS1.txt\t    PS1.txt\t PS4.txt  SE.txt   TS3.txt\n"
          ]
        }
      ]
    },
    {
      "cell_type": "markdown",
      "source": [
        "# Predictive Maintenance for Hydraulic Systems\n",
        "\n",
        "## Data importing and basic understanding\n",
        "The \"Condition Monitoring of Hydraulic Systems\" dataset provides comprehensive sensor data from a hydraulic test rig, facilitating the analysis and assessment of various component conditions. This dataset is particularly valuable for tasks such as fault detection, predictive maintenance, and machine learning model development.\n",
        "\n",
        "**Dataset Overview:**\n",
        "\n",
        "- **Source:** The dataset is available through the UCI Machine Learning Repository. citeturn0search0\n",
        "\n",
        "- **Structure:** It comprises multivariate time-series data with 2,205 instances (cycles) and 43,680 features. Each cycle corresponds to a 60-second load sequence, during which various sensor measurements are recorded.\n",
        "\n",
        "**Key Components Monitored:**\n",
        "\n",
        "1. **Cooler:** Monitored for efficiency, with conditions ranging from full efficiency (100%) to near-total failure (3%).\n",
        "\n",
        "2. **Valve:** Assessed based on switching behavior, with conditions from optimal (100%) to severe lag (73%).\n",
        "\n",
        "3. **Pump:** Evaluated for internal leakage, categorized as no leakage (0), weak leakage (1), or severe leakage (2).\n",
        "\n",
        "4. **Accumulator:** Monitored for pressure levels, from optimal (130 bar) to critically low pressure (90 bar).\n",
        "\n",
        "**Sensors and Measurements:**\n",
        "\n",
        "The dataset includes readings from multiple sensors, each capturing specific physical quantities at designated sampling rates:\n",
        "\n",
        "- **Pressure Sensors (PS1 to PS6):** Measure pressure in bar at 100 Hz.\n",
        "\n",
        "- **Motor Power Sensor (EPS1):** Records motor power in watts at 100 Hz.\n",
        "\n",
        "- **Flow Sensors (FS1, FS2):** Capture volume flow in liters per minute at 10 Hz.\n",
        "\n",
        "- **Temperature Sensors (TS1 to TS4):** Record temperature in degrees Celsius at 1 Hz.\n",
        "\n",
        "- **Vibration Sensor (VS1):** Measures vibration in mm/s at 1 Hz.\n",
        "\n",
        "- **Virtual Sensors:** Calculate cooling efficiency (%), cooling power (kW), and efficiency factor (%) at 1 Hz.\n",
        "\n",
        "**Data Organization:**\n",
        "\n",
        "- **Sensor Data Files:** Each sensor's readings are stored in separate tab-delimited text files, where rows represent cycles and columns denote data points within each cycle.\n",
        "\n",
        "- **Profile File:** The 'profile.txt' file contains cycle-wise annotations of component conditions, facilitating supervised learning and condition assessment tasks.\n",
        "\n",
        "**Applications:**\n",
        "\n",
        "Researchers and practitioners can utilize this dataset to:\n",
        "\n",
        "- **Develop Predictive Models:** Create models to predict component failures or maintenance needs based on sensor data.\n",
        "\n",
        "- **Perform Fault Diagnosis:** Identify and classify different fault types and their severity levels.\n",
        "\n",
        "- **Analyze Sensor Data:** Explore relationships between sensor measurements and component conditions to enhance system monitoring.\n",
        "\n",
        "For practical applications and modeling examples using this dataset, refer to the GitHub repository that demonstrates condition monitoring using XGBoost.\n",
        "\n",
        "By leveraging this dataset, you can gain insights into the operational health of hydraulic systems and develop robust models for predictive maintenance and fault detection."
      ],
      "metadata": {
        "id": "FPZsxOkWarYb"
      }
    },
    {
      "cell_type": "markdown",
      "source": [
        "**Load Load Necessary Libraries**"
      ],
      "metadata": {
        "id": "_vAw8WoVblJs"
      }
    },
    {
      "cell_type": "code",
      "source": [
        "import os\n",
        "import pandas as pd\n",
        "import numpy as np\n",
        "import matplotlib.pyplot as plt\n",
        "import seaborn as sns\n",
        "from sklearn.model_selection import train_test_split\n",
        "from sklearn.preprocessing import StandardScaler\n",
        "from sklearn.ensemble import RandomForestClassifier\n",
        "from sklearn.metrics import accuracy_score, classification_report, confusion_matrix\n",
        "from xgboost import XGBClassifier\n",
        "\n",
        "\n",
        "\n"
      ],
      "metadata": {
        "id": "pEjE1ufZ7o4h"
      },
      "execution_count": 26,
      "outputs": []
    },
    {
      "cell_type": "markdown",
      "source": [
        "**Load Dataset**"
      ],
      "metadata": {
        "id": "oDeLGNfgbu9R"
      }
    },
    {
      "cell_type": "markdown",
      "source": [
        "****"
      ],
      "metadata": {
        "id": "qweN6OONbsES"
      }
    },
    {
      "cell_type": "code",
      "source": [
        "\n",
        "# Load profile data (target labels)\n",
        "profile_path = \"./profile.txt\"  # Update path if necessary\n",
        "profile_df = pd.read_csv(profile_path, sep=\"\\t\", header=None)\n",
        "profile_df.columns = [\"Cooler_Condition\", \"Valve_Condition\", \"Pump_Leakage\", \"Accumulator_Pressure\", \"Unknown_Flag\"]\n",
        "\n",
        "# List of sensor files\n",
        "sensor_files = [\"EPS1.txt\", \"FS1.txt\", \"FS2.txt\", \"PS1.txt\", \"PS2.txt\", \"PS3.txt\", \"PS4.txt\", \"PS5.txt\", \"PS6.txt\", \"TS1.txt\", \"TS2.txt\", \"TS3.txt\", \"TS4.txt\", \"VS1.txt\"]\n",
        "\n",
        "# Extract features from sensor data\n",
        "feature_dict = {}\n",
        "for sensor_file in sensor_files:\n",
        "    sensor_df = pd.read_csv(f\"./{sensor_file}\", sep=\"\\t\", header=None)\n",
        "    feature_dict[f\"{sensor_file}_mean\"] = sensor_df.mean(axis=1)\n",
        "    feature_dict[f\"{sensor_file}_std\"] = sensor_df.std(axis=1)\n",
        "    feature_dict[f\"{sensor_file}_min\"] = sensor_df.min(axis=1)\n",
        "    feature_dict[f\"{sensor_file}_max\"] = sensor_df.max(axis=1)\n",
        "    feature_dict[f\"{sensor_file}_range\"] = feature_dict[f\"{sensor_file}_max\"] - feature_dict[f\"{sensor_file}_min\"]\n",
        "\n",
        "# Convert extracted features into a DataFrame\n",
        "features_df = pd.DataFrame(feature_dict)\n",
        "\n",
        "# Merge features with profile data\n",
        "data = pd.concat([features_df, profile_df], axis=1)\n",
        "\n",
        "# Define features and target\n",
        "X = data.drop(columns=[\"Cooler_Condition\", \"Valve_Condition\", \"Pump_Leakage\", \"Accumulator_Pressure\", \"Unknown_Flag\"])\n",
        "y = data[\"Pump_Leakage\"]  # Example: Predicting pump leakage\n",
        "\n",
        "\n"
      ],
      "metadata": {
        "id": "xTDUBgGOXSsE"
      },
      "execution_count": 28,
      "outputs": []
    },
    {
      "cell_type": "code",
      "source": [
        "# Train-test split\n",
        "X_train, X_test, y_train, y_test = train_test_split(X, y, test_size=0.2, random_state=42)\n",
        "\n",
        "# Scale features\n",
        "scaler = StandardScaler()\n",
        "X_train = scaler.fit_transform(X_train)\n",
        "X_test = scaler.transform(X_test)\n",
        "\n",
        "# Train a Random Forest Classifier\n",
        "rf_model = RandomForestClassifier(n_estimators=100, random_state=42)\n",
        "rf_model.fit(X_train, y_train)\n",
        "y_pred_rf = rf_model.predict(X_test)\n",
        "print(\"Random Forest Accuracy:\", accuracy_score(y_test, y_pred_rf))\n",
        "print(classification_report(y_test, y_pred_rf))\n",
        "\n",
        "# Train an XGBoost Classifier\n",
        "xgb_model = XGBClassifier(n_estimators=100, use_label_encoder=False, eval_metric='mlogloss')\n",
        "xgb_model.fit(X_train, y_train)\n",
        "y_pred_xgb = xgb_model.predict(X_test)\n",
        "print(\"XGBoost Accuracy:\", accuracy_score(y_test, y_pred_xgb))\n",
        "print(classification_report(y_test, y_pred_xgb))"
      ],
      "metadata": {
        "id": "1XzItG4BmqBN",
        "outputId": "2415dfc2-e414-47f3-a15d-55ce7bfe7596",
        "colab": {
          "base_uri": "https://localhost:8080/"
        }
      },
      "execution_count": 29,
      "outputs": [
        {
          "output_type": "stream",
          "name": "stdout",
          "text": [
            "Random Forest Accuracy: 0.9977324263038548\n",
            "              precision    recall  f1-score   support\n",
            "\n",
            "           0       1.00      1.00      1.00       228\n",
            "           1       0.99      1.00      1.00       101\n",
            "           2       1.00      0.99      1.00       112\n",
            "\n",
            "    accuracy                           1.00       441\n",
            "   macro avg       1.00      1.00      1.00       441\n",
            "weighted avg       1.00      1.00      1.00       441\n",
            "\n"
          ]
        },
        {
          "output_type": "stream",
          "name": "stderr",
          "text": [
            "/usr/local/lib/python3.11/dist-packages/xgboost/core.py:158: UserWarning: [22:31:16] WARNING: /workspace/src/learner.cc:740: \n",
            "Parameters: { \"use_label_encoder\" } are not used.\n",
            "\n",
            "  warnings.warn(smsg, UserWarning)\n"
          ]
        },
        {
          "output_type": "stream",
          "name": "stdout",
          "text": [
            "XGBoost Accuracy: 0.9909297052154195\n",
            "              precision    recall  f1-score   support\n",
            "\n",
            "           0       0.99      1.00      1.00       228\n",
            "           1       0.99      0.99      0.99       101\n",
            "           2       0.99      0.97      0.98       112\n",
            "\n",
            "    accuracy                           0.99       441\n",
            "   macro avg       0.99      0.99      0.99       441\n",
            "weighted avg       0.99      0.99      0.99       441\n",
            "\n"
          ]
        }
      ]
    },
    {
      "cell_type": "markdown",
      "source": [
        "## Data preprocessing"
      ],
      "metadata": {
        "id": "iQNNGGELb1L1"
      }
    },
    {
      "cell_type": "code",
      "source": [
        "## Step 3: Merge All Sensor Data into a Single DataFrame\n",
        "merged_df = pd.concat(data_files.values(), axis=1)\n",
        "merged_df.dropna(axis=1, how=\"all\", inplace=True)  # Remove empty columns\n",
        "\n",
        "# Display dataset structure\n",
        "print(\"Merged Dataset Shape:\", merged_df.shape)\n",
        "print(merged_df.info())\n",
        "\n"
      ],
      "metadata": {
        "id": "TkJV8PGwXVhb",
        "outputId": "2de131db-e324-4365-85e3-5c57f4310a02",
        "colab": {
          "base_uri": "https://localhost:8080/"
        }
      },
      "execution_count": 19,
      "outputs": [
        {
          "output_type": "stream",
          "name": "stdout",
          "text": [
            "Merged Dataset Shape: (2204, 43680)\n",
            "<class 'pandas.core.frame.DataFrame'>\n",
            "RangeIndex: 2204 entries, 0 to 2203\n",
            "Columns: 43680 entries, 68.039 to 0.543\n",
            "dtypes: float64(43646), int64(34)\n",
            "memory usage: 734.5 MB\n",
            "None\n"
          ]
        }
      ]
    },
    {
      "cell_type": "code",
      "source": [
        "## Step 4: Exploratory Data Analysis (EDA)\n",
        "# Check for missing values\n",
        "print(\"Missing Values:\")\n",
        "print(merged_df.isnull().sum())\n",
        "\n",
        "# Plot sensor trends over time\n",
        "plt.figure(figsize=(12,6))\n",
        "sns.lineplot(data=merged_df.iloc[:, :5])  # Plot first few sensor readings\n",
        "plt.title(\"Sensor Readings Over Time\")\n",
        "plt.xlabel(\"Time\")\n",
        "plt.ylabel(\"Sensor Values\")\n",
        "plt.show()\n",
        "\n"
      ],
      "metadata": {
        "id": "tlU7ZRmPXYod",
        "outputId": "0993c988-edcb-43ed-a405-a55b29acf42b",
        "colab": {
          "base_uri": "https://localhost:8080/",
          "height": 790
        }
      },
      "execution_count": 20,
      "outputs": [
        {
          "output_type": "stream",
          "name": "stdout",
          "text": [
            "Missing Values:\n",
            "68.039     0\n",
            "0          0\n",
            "0.1        0\n",
            "0.2        0\n",
            "0.3        0\n",
            "          ..\n",
            "0.539      0\n",
            "0.544.1    0\n",
            "0.545.1    0\n",
            "0.535      0\n",
            "0.543      0\n",
            "Length: 43680, dtype: int64\n"
          ]
        },
        {
          "output_type": "display_data",
          "data": {
            "text/plain": [
              "<Figure size 1200x600 with 1 Axes>"
            ],
            "image/png": "[encoded data removed]"
          },
          "metadata": {}
        }
      ]
    },
    {
      "cell_type": "code",
      "source": [
        "## Step 5: Data Preprocessing\n",
        "# Define Features and Target Variable\n",
        "X = merged_df.iloc[:, :-1]  # Features (all sensor readings)\n",
        "y = merged_df.iloc[:, -1]   # Target (assumed last column is the label)\n",
        "\n",
        "# Handle missing values by filling with mean\n",
        "X.fillna(X.mean(), inplace=True)\n",
        "\n",
        "# Normalize sensor data\n",
        "scaler = StandardScaler()\n",
        "X_scaled = scaler.fit_transform(X)\n",
        "\n"
      ],
      "metadata": {
        "id": "WiapsmlzXahF",
        "outputId": "c3121e75-1be6-41e8-e8ab-1134f8dd0423",
        "colab": {
          "base_uri": "https://localhost:8080/",
          "height": 529
        }
      },
      "execution_count": 21,
      "outputs": [
        {
          "output_type": "error",
          "ename": "KeyboardInterrupt",
          "evalue": "",
          "traceback": [
            "\u001b[0;31m---------------------------------------------------------------------------\u001b[0m",
            "\u001b[0;31mKeyboardInterrupt\u001b[0m                         Traceback (most recent call last)",
            "\u001b[0;32m<ipython-input-21-aa3edfba8e83>\u001b[0m in \u001b[0;36m<cell line: 0>\u001b[0;34m()\u001b[0m\n\u001b[1;32m      5\u001b[0m \u001b[0;34m\u001b[0m\u001b[0m\n\u001b[1;32m      6\u001b[0m \u001b[0;31m# Handle missing values by filling with mean\u001b[0m\u001b[0;34m\u001b[0m\u001b[0;34m\u001b[0m\u001b[0m\n\u001b[0;32m----> 7\u001b[0;31m \u001b[0mX\u001b[0m\u001b[0;34m.\u001b[0m\u001b[0mfillna\u001b[0m\u001b[0;34m(\u001b[0m\u001b[0mX\u001b[0m\u001b[0;34m.\u001b[0m\u001b[0mmean\u001b[0m\u001b[0;34m(\u001b[0m\u001b[0;34m)\u001b[0m\u001b[0;34m,\u001b[0m \u001b[0minplace\u001b[0m\u001b[0;34m=\u001b[0m\u001b[0;32mTrue\u001b[0m\u001b[0;34m)\u001b[0m\u001b[0;34m\u001b[0m\u001b[0;34m\u001b[0m\u001b[0m\n\u001b[0m\u001b[1;32m      8\u001b[0m \u001b[0;34m\u001b[0m\u001b[0m\n\u001b[1;32m      9\u001b[0m \u001b[0;31m# Normalize sensor data\u001b[0m\u001b[0;34m\u001b[0m\u001b[0;34m\u001b[0m\u001b[0m\n",
            "\u001b[0;32m/usr/local/lib/python3.11/dist-packages/pandas/core/generic.py\u001b[0m in \u001b[0;36mfillna\u001b[0;34m(self, value, method, axis, inplace, limit, downcast)\u001b[0m\n\u001b[1;32m   7364\u001b[0m                 \u001b[0mis_dict\u001b[0m \u001b[0;34m=\u001b[0m \u001b[0misinstance\u001b[0m\u001b[0;34m(\u001b[0m\u001b[0mdowncast\u001b[0m\u001b[0;34m,\u001b[0m \u001b[0mdict\u001b[0m\u001b[0;34m)\u001b[0m\u001b[0;34m\u001b[0m\u001b[0;34m\u001b[0m\u001b[0m\n\u001b[1;32m   7365\u001b[0m                 \u001b[0;32mfor\u001b[0m \u001b[0mk\u001b[0m\u001b[0;34m,\u001b[0m \u001b[0mv\u001b[0m \u001b[0;32min\u001b[0m \u001b[0mvalue\u001b[0m\u001b[0;34m.\u001b[0m\u001b[0mitems\u001b[0m\u001b[0;34m(\u001b[0m\u001b[0;34m)\u001b[0m\u001b[0;34m:\u001b[0m\u001b[0;34m\u001b[0m\u001b[0;34m\u001b[0m\u001b[0m\n\u001b[0;32m-> 7366\u001b[0;31m                     \u001b[0;32mif\u001b[0m \u001b[0mk\u001b[0m \u001b[0;32mnot\u001b[0m \u001b[0;32min\u001b[0m \u001b[0mresult\u001b[0m\u001b[0;34m:\u001b[0m\u001b[0;34m\u001b[0m\u001b[0;34m\u001b[0m\u001b[0m\n\u001b[0m\u001b[1;32m   7367\u001b[0m                         \u001b[0;32mcontinue\u001b[0m\u001b[0;34m\u001b[0m\u001b[0;34m\u001b[0m\u001b[0m\n\u001b[1;32m   7368\u001b[0m \u001b[0;34m\u001b[0m\u001b[0m\n",
            "\u001b[0;32m/usr/local/lib/python3.11/dist-packages/pandas/core/generic.py\u001b[0m in \u001b[0;36m__contains__\u001b[0;34m(self, key)\u001b[0m\n\u001b[1;32m   2078\u001b[0m     \u001b[0;32mdef\u001b[0m \u001b[0m__contains__\u001b[0m\u001b[0;34m(\u001b[0m\u001b[0mself\u001b[0m\u001b[0;34m,\u001b[0m \u001b[0mkey\u001b[0m\u001b[0;34m)\u001b[0m \u001b[0;34m->\u001b[0m \u001b[0mbool_t\u001b[0m\u001b[0;34m:\u001b[0m\u001b[0;34m\u001b[0m\u001b[0;34m\u001b[0m\u001b[0m\n\u001b[1;32m   2079\u001b[0m         \u001b[0;34m\"\"\"True if the key is in the info axis\"\"\"\u001b[0m\u001b[0;34m\u001b[0m\u001b[0;34m\u001b[0m\u001b[0m\n\u001b[0;32m-> 2080\u001b[0;31m         \u001b[0;32mreturn\u001b[0m \u001b[0mkey\u001b[0m \u001b[0;32min\u001b[0m \u001b[0mself\u001b[0m\u001b[0;34m.\u001b[0m\u001b[0m_info_axis\u001b[0m\u001b[0;34m\u001b[0m\u001b[0;34m\u001b[0m\u001b[0m\n\u001b[0m\u001b[1;32m   2081\u001b[0m \u001b[0;34m\u001b[0m\u001b[0m\n\u001b[1;32m   2082\u001b[0m     \u001b[0;34m@\u001b[0m\u001b[0mproperty\u001b[0m\u001b[0;34m\u001b[0m\u001b[0;34m\u001b[0m\u001b[0m\n",
            "\u001b[0;32m/usr/local/lib/python3.11/dist-packages/pandas/core/indexes/base.py\u001b[0m in \u001b[0;36m__contains__\u001b[0;34m(self, key)\u001b[0m\n\u001b[1;32m   5358\u001b[0m         \u001b[0mhash\u001b[0m\u001b[0;34m(\u001b[0m\u001b[0mkey\u001b[0m\u001b[0;34m)\u001b[0m\u001b[0;34m\u001b[0m\u001b[0;34m\u001b[0m\u001b[0m\n\u001b[1;32m   5359\u001b[0m         \u001b[0;32mtry\u001b[0m\u001b[0;34m:\u001b[0m\u001b[0;34m\u001b[0m\u001b[0;34m\u001b[0m\u001b[0m\n\u001b[0;32m-> 5360\u001b[0;31m             \u001b[0;32mreturn\u001b[0m \u001b[0mkey\u001b[0m \u001b[0;32min\u001b[0m \u001b[0mself\u001b[0m\u001b[0;34m.\u001b[0m\u001b[0m_engine\u001b[0m\u001b[0;34m\u001b[0m\u001b[0;34m\u001b[0m\u001b[0m\n\u001b[0m\u001b[1;32m   5361\u001b[0m         \u001b[0;32mexcept\u001b[0m \u001b[0;34m(\u001b[0m\u001b[0mOverflowError\u001b[0m\u001b[0;34m,\u001b[0m \u001b[0mTypeError\u001b[0m\u001b[0;34m,\u001b[0m \u001b[0mValueError\u001b[0m\u001b[0;34m)\u001b[0m\u001b[0;34m:\u001b[0m\u001b[0;34m\u001b[0m\u001b[0;34m\u001b[0m\u001b[0m\n\u001b[1;32m   5362\u001b[0m             \u001b[0;32mreturn\u001b[0m \u001b[0;32mFalse\u001b[0m\u001b[0;34m\u001b[0m\u001b[0;34m\u001b[0m\u001b[0m\n",
            "\u001b[0;32mindex.pyx\u001b[0m in \u001b[0;36mpandas._libs.index.IndexEngine.__contains__\u001b[0;34m()\u001b[0m\n",
            "\u001b[0;32mindex.pyx\u001b[0m in \u001b[0;36mpandas._libs.index.IndexEngine.get_loc\u001b[0;34m()\u001b[0m\n",
            "\u001b[0;32mindex.pyx\u001b[0m in \u001b[0;36mpandas._libs.index.IndexEngine._get_loc_duplicates\u001b[0;34m()\u001b[0m\n",
            "\u001b[0;32mindex.pyx\u001b[0m in \u001b[0;36mpandas._libs.index.IndexEngine._maybe_get_bool_indexer\u001b[0;34m()\u001b[0m\n",
            "\u001b[0;32mindex.pyx\u001b[0m in \u001b[0;36mpandas._libs.index._unpack_bool_indexer\u001b[0;34m()\u001b[0m\n",
            "\u001b[0;32m/usr/local/lib/python3.11/dist-packages/numpy/core/multiarray.py\u001b[0m in \u001b[0;36mwhere\u001b[0;34m(condition, x, y)\u001b[0m\n\u001b[1;32m    344\u001b[0m \u001b[0;34m\u001b[0m\u001b[0m\n\u001b[1;32m    345\u001b[0m \u001b[0;34m\u001b[0m\u001b[0m\n\u001b[0;32m--> 346\u001b[0;31m \u001b[0;34m@\u001b[0m\u001b[0marray_function_from_c_func_and_dispatcher\u001b[0m\u001b[0;34m(\u001b[0m\u001b[0m_multiarray_umath\u001b[0m\u001b[0;34m.\u001b[0m\u001b[0mwhere\u001b[0m\u001b[0;34m)\u001b[0m\u001b[0;34m\u001b[0m\u001b[0;34m\u001b[0m\u001b[0m\n\u001b[0m\u001b[1;32m    347\u001b[0m \u001b[0;32mdef\u001b[0m \u001b[0mwhere\u001b[0m\u001b[0;34m(\u001b[0m\u001b[0mcondition\u001b[0m\u001b[0;34m,\u001b[0m \u001b[0mx\u001b[0m\u001b[0;34m=\u001b[0m\u001b[0;32mNone\u001b[0m\u001b[0;34m,\u001b[0m \u001b[0my\u001b[0m\u001b[0;34m=\u001b[0m\u001b[0;32mNone\u001b[0m\u001b[0;34m)\u001b[0m\u001b[0;34m:\u001b[0m\u001b[0;34m\u001b[0m\u001b[0;34m\u001b[0m\u001b[0m\n\u001b[1;32m    348\u001b[0m     \"\"\"\n",
            "\u001b[0;31mKeyboardInterrupt\u001b[0m: "
          ]
        }
      ]
    },
    {
      "cell_type": "code",
      "source": [
        "## Step 6: Train-Test Split\n",
        "X_train, X_test, y_train, y_test = train_test_split(X_scaled, y, test_size=0.2, random_state=42)\n",
        "\n"
      ],
      "metadata": {
        "id": "9ienYKmXXc2G"
      },
      "execution_count": null,
      "outputs": []
    },
    {
      "cell_type": "code",
      "source": [
        "## Step 7: Train Baseline Model (Random Forest)\n",
        "clf = RandomForestClassifier(n_estimators=100, random_state=42)\n",
        "clf.fit(X_train, y_train)\n",
        "\n"
      ],
      "metadata": {
        "id": "PRdrqYo4Xe2z"
      },
      "execution_count": null,
      "outputs": []
    },
    {
      "cell_type": "code",
      "source": [
        "## Step 8: Evaluate Model Performance\n",
        "y_pred = clf.predict(X_test)\n",
        "print(\"Model Accuracy:\", accuracy_score(y_test, y_pred))\n",
        "print(\"Classification Report:\")\n",
        "print(classification_report(y_test, y_pred))\n",
        "\n",
        "# Confusion Matrix\n",
        "plt.figure(figsize=(6,6))\n",
        "sns.heatmap(confusion_matrix(y_test, y_pred), annot=True, fmt='d', cmap='Blues')\n",
        "plt.xlabel(\"Predicted\")\n",
        "plt.ylabel(\"Actual\")\n",
        "plt.title(\"Confusion Matrix\")\n",
        "plt.show()\n",
        "\n"
      ],
      "metadata": {
        "id": "9VUJsjCeXgb6"
      },
      "execution_count": null,
      "outputs": []
    },
    {
      "cell_type": "code",
      "source": [
        "## Step 9: Save Processed Data for Further Use\n",
        "merged_df.to_csv(\"processed_hydraulic_systems_data.csv\", index=False)"
      ],
      "metadata": {
        "id": "fu-GDM0hXiqk"
      },
      "execution_count": null,
      "outputs": []
    }
  ]
}